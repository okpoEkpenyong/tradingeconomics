{
 "cells": [
  {
   "cell_type": "code",
   "execution_count": null,
   "metadata": {
    "collapsed": true
   },
   "outputs": [],
   "source": [
    "def TEPlot(myDict, points = True):\n",
    "    histData = myDict.get('historical')  # All historical data\n",
    "    histData = myDict.get('historical').loc[myDict.get('historical').index[-100]:] # Last 100 observations of the historical data\n",
    "    forcData = myDict.get('forecasted') # Forecasted data    \n",
    "    dots = myDict.get('points')\n",
    "\n",
    "    plt.figure(1, figsize=(13, 6))\n",
    "    plt.plot(histData)\n",
    "    plt.plot(forcData)\n",
    "    if points == True:\n",
    "        plt.plot(dots, 'o')\n",
    "    plt.show()\n",
    "    return"
   ]
  }
 ],
 "metadata": {
  "kernelspec": {
   "display_name": "Python 2",
   "language": "python",
   "name": "python2"
  },
  "language_info": {
   "codemirror_mode": {
    "name": "ipython",
    "version": 2
   },
   "file_extension": ".py",
   "mimetype": "text/x-python",
   "name": "python",
   "nbconvert_exporter": "python",
   "pygments_lexer": "ipython2",
   "version": "2.7.13"
  }
 },
 "nbformat": 4,
 "nbformat_minor": 2
}
