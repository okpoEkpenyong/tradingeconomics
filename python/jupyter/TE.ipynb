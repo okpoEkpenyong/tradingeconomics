{
 "cells": [
  {
   "cell_type": "code",
   "execution_count": 6,
   "metadata": {
    "collapsed": true
   },
   "outputs": [],
   "source": [
    "%run TEGetData.ipynb\n",
    "%run CountryCharts.ipynb\n",
    "%run IndicatorCharts.ipynb\n",
    "%run corFun.ipynb\n",
    "%run TECorrPlot.ipynb\n",
    "%run TEForecast.ipynb\n",
    "%run TEPlot.ipynb\n"
   ]
  }
 ],
 "metadata": {
  "kernelspec": {
   "display_name": "Python 2",
   "language": "python",
   "name": "python2"
  },
  "language_info": {
   "codemirror_mode": {
    "name": "ipython",
    "version": 2
   },
   "file_extension": ".py",
   "mimetype": "text/x-python",
   "name": "python",
   "nbconvert_exporter": "python",
   "pygments_lexer": "ipython2",
   "version": "2.7.13"
  }
 },
 "nbformat": 4,
 "nbformat_minor": 2
}
