{
 "cells": [
  {
   "cell_type": "code",
   "execution_count": null,
   "metadata": {
    "collapsed": true
   },
   "outputs": [],
   "source": [
    "def TECorrPlot(corrDF):\n",
    "    axes = scatter_matrix(corrDF, alpha=0.7, figsize=(len(corrDF)*2, len(corrDF)*2), diagonal='kde')\n",
    "    corr = corrDF.as_matrix()    \n",
    "    for i, j in zip(*plt.np.triu_indices_from(axes, k=1)):\n",
    "        axes[i, j].annotate(\"%.3f\" %corr[i,j], (.7, .8), xycoords='axes fraction', size = 7 + abs(19*corr[i,j]) , ha='center', va='center', color = 'red')    \n",
    "    plt.show()\n",
    "    return"
   ]
  }
 ],
 "metadata": {
  "kernelspec": {
   "display_name": "Python 2",
   "language": "python",
   "name": "python2"
  },
  "language_info": {
   "codemirror_mode": {
    "name": "ipython",
    "version": 2
   },
   "file_extension": ".py",
   "mimetype": "text/x-python",
   "name": "python",
   "nbconvert_exporter": "python",
   "pygments_lexer": "ipython2",
   "version": "2.7.13"
  }
 },
 "nbformat": 4,
 "nbformat_minor": 2
}
